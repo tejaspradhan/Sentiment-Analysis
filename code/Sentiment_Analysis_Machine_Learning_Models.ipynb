{
  "nbformat": 4,
  "nbformat_minor": 0,
  "metadata": {
    "colab": {
      "name": "Sentiment_Analysis-Machine_Learning_Models.ipynb",
      "provenance": [],
      "collapsed_sections": [],
      "authorship_tag": "ABX9TyPGedkB2sci8QjsNTjjs0Um",
      "include_colab_link": true
    },
    "kernelspec": {
      "name": "python3",
      "display_name": "Python 3"
    },
    "language_info": {
      "name": "python"
    }
  },
  "cells": [
    {
      "cell_type": "markdown",
      "metadata": {
        "id": "view-in-github",
        "colab_type": "text"
      },
      "source": [
        "<a href=\"https://colab.research.google.com/github/tejaspradhan/Sentiment-Analysis/blob/main/code/Sentiment_Analysis_Machine_Learning_Models.ipynb\" target=\"_parent\"><img src=\"https://colab.research.google.com/assets/colab-badge.svg\" alt=\"Open In Colab\"/></a>"
      ]
    },
    {
      "cell_type": "markdown",
      "source": [
        "# Applying Text Classification Algorithms on Preprocessed Data"
      ],
      "metadata": {
        "id": "ihzEo2wvRPJg"
      }
    },
    {
      "cell_type": "markdown",
      "source": [
        "## Importing Libraries"
      ],
      "metadata": {
        "id": "k8AY9OfIRIkG"
      }
    },
    {
      "cell_type": "code",
      "source": [
        "import numpy as np\n",
        "import pandas as pd\n",
        "import matplotlib.pyplot as plt\n",
        "from imblearn.over_sampling import SMOTE\n",
        "\n",
        "from sklearn.model_selection import train_test_split\n",
        "from sklearn.feature_extraction.text import CountVectorizer\n",
        "from sklearn.feature_extraction.text import TfidfTransformer\n",
        "from sklearn.naive_bayes import MultinomialNB\n",
        "from sklearn.svm import LinearSVC\n",
        "from sklearn.neighbors import KNeighborsClassifier\n",
        "from sklearn import metrics\n",
        "\n",
        "import pickle"
      ],
      "metadata": {
        "id": "YBn68k_9ShTi"
      },
      "execution_count": 1,
      "outputs": []
    },
    {
      "cell_type": "code",
      "source": [
        "train_data = pd.read_csv('train_preprocessed.csv')\n",
        "test_data = pd.read_csv('test_preprocessed.csv')"
      ],
      "metadata": {
        "id": "gyI8_TnHTUOH"
      },
      "execution_count": 3,
      "outputs": []
    },
    {
      "cell_type": "markdown",
      "source": [
        "## Approach \n",
        "1. Convert Words to Appropriate Word Vectors - Count Vectorizer & TF-IDF\n",
        "\n",
        "\n",
        "2. Feed The Vectorized word arrays to classification algorithm and train the model\n",
        "\n",
        "\n",
        "3. Evaluate model on test data"
      ],
      "metadata": {
        "id": "6-7WDw_XSJXa"
      }
    },
    {
      "cell_type": "code",
      "source": [
        "# Instantiating Count Vectorizer and TF-IDF transformer\n",
        "vectorizer = CountVectorizer()\n",
        "transformer = TfidfTransformer()"
      ],
      "metadata": {
        "id": "_JZMrNU-S-At"
      },
      "execution_count": 4,
      "outputs": []
    },
    {
      "cell_type": "code",
      "source": [
        "x,y = train_data['cleaned_tweet'],train_data['label']\n",
        "x.shape,y.shape"
      ],
      "metadata": {
        "colab": {
          "base_uri": "https://localhost:8080/"
        },
        "id": "ZNjg22f_e7LI",
        "outputId": "4ac46787-8047-4073-99ac-bf1ff38781fa"
      },
      "execution_count": 5,
      "outputs": [
        {
          "output_type": "execute_result",
          "data": {
            "text/plain": [
              "((26037,), (26037,))"
            ]
          },
          "metadata": {},
          "execution_count": 5
        }
      ]
    },
    {
      "cell_type": "code",
      "source": [
        "# vectorising the word corpus into count vectors\n",
        "x_vec = vectorizer.fit_transform(x)\n",
        "x_tfidf = transformer.fit_transform(x_vec)"
      ],
      "metadata": {
        "id": "nC9Nj1qvUON8"
      },
      "execution_count": 6,
      "outputs": []
    },
    {
      "cell_type": "code",
      "source": [
        "x_tfidf.shape, y.shape"
      ],
      "metadata": {
        "colab": {
          "base_uri": "https://localhost:8080/"
        },
        "id": "69dEKy4vfuxN",
        "outputId": "8dd85e37-1688-4307-a1bf-d11d5391f4ff"
      },
      "execution_count": 7,
      "outputs": [
        {
          "output_type": "execute_result",
          "data": {
            "text/plain": [
              "((26037, 32553), (26037,))"
            ]
          },
          "metadata": {},
          "execution_count": 7
        }
      ]
    },
    {
      "cell_type": "markdown",
      "source": [
        "## Oversampling the Minority Class - 1\n",
        "As the dataset is imbalanced, we need to first balance it by oversampling. Else, we may get misleading accuracies whereas the model will be biased towards 1 particular class"
      ],
      "metadata": {
        "id": "j45lIpTreDJd"
      }
    },
    {
      "cell_type": "code",
      "source": [
        "resampler= SMOTE()"
      ],
      "metadata": {
        "id": "A6BvF0QkfxbL"
      },
      "execution_count": 8,
      "outputs": []
    },
    {
      "cell_type": "code",
      "source": [
        "x_tfidf,y = resampler.fit_resample(x_tfidf,y)"
      ],
      "metadata": {
        "id": "K2JG2bRLgWBZ"
      },
      "execution_count": 9,
      "outputs": []
    },
    {
      "cell_type": "code",
      "source": [
        "y.value_counts().plot(kind='bar')"
      ],
      "metadata": {
        "colab": {
          "base_uri": "https://localhost:8080/",
          "height": 279
        },
        "id": "KEFFx4T1gdRo",
        "outputId": "a73becc1-d927-4e38-d975-f57d4fa9ea2f"
      },
      "execution_count": 10,
      "outputs": [
        {
          "output_type": "execute_result",
          "data": {
            "text/plain": [
              "<matplotlib.axes._subplots.AxesSubplot at 0x7f1dd0260410>"
            ]
          },
          "metadata": {},
          "execution_count": 10
        },
        {
          "output_type": "display_data",
          "data": {
            "image/png": "[encoded data removed]",
            "text/plain": [
              "<Figure size 432x288 with 1 Axes>"
            ]
          },
          "metadata": {
            "needs_background": "light"
          }
        }
      ]
    },
    {
      "cell_type": "markdown",
      "source": [
        "## Splitting the Training Data Into Training and Validation Sets"
      ],
      "metadata": {
        "id": "AU3T8KvXUi2Q"
      }
    },
    {
      "cell_type": "code",
      "source": [
        " x_train,x_val,y_train,y_val = train_test_split(x_tfidf,y,test_size=0.3)"
      ],
      "metadata": {
        "id": "M-d3HVZxTOzS"
      },
      "execution_count": 11,
      "outputs": []
    },
    {
      "cell_type": "code",
      "source": [
        "x_train.shape, y_train.shape,x_val.shape, y_val.shape"
      ],
      "metadata": {
        "colab": {
          "base_uri": "https://localhost:8080/"
        },
        "id": "3kR_UWncUNYf",
        "outputId": "0283a80f-2454-4109-fe81-6e30692ad066"
      },
      "execution_count": 12,
      "outputs": [
        {
          "output_type": "execute_result",
          "data": {
            "text/plain": [
              "((33889, 32553), (33889,), (14525, 32553), (14525,))"
            ]
          },
          "metadata": {},
          "execution_count": 12
        }
      ]
    },
    {
      "cell_type": "code",
      "source": [
        "x_test = test_data['cleaned_tweet']\n",
        "x_test.shape"
      ],
      "metadata": {
        "colab": {
          "base_uri": "https://localhost:8080/"
        },
        "id": "WQFbD67hU9Rj",
        "outputId": "5d7704fe-fb21-4e3d-c961-b317ca1f8ec2"
      },
      "execution_count": 13,
      "outputs": [
        {
          "output_type": "execute_result",
          "data": {
            "text/plain": [
              "(17197,)"
            ]
          },
          "metadata": {},
          "execution_count": 13
        }
      ]
    },
    {
      "cell_type": "code",
      "source": [
        "x_train[0:5] # Each row in this is a string"
      ],
      "metadata": {
        "colab": {
          "base_uri": "https://localhost:8080/"
        },
        "id": "GzIUNGV0VwBc",
        "outputId": "5d573714-7431-4f67-f78c-99126275f05b"
      },
      "execution_count": 14,
      "outputs": [
        {
          "output_type": "execute_result",
          "data": {
            "text/plain": [
              "<5x32553 sparse matrix of type '<class 'numpy.float64'>'\n",
              "\twith 82 stored elements in Compressed Sparse Row format>"
            ]
          },
          "metadata": {},
          "execution_count": 14
        }
      ]
    },
    {
      "cell_type": "markdown",
      "source": [
        "## Model Training "
      ],
      "metadata": {
        "id": "94c8qp0FeV54"
      }
    },
    {
      "cell_type": "code",
      "source": [
        "# Defining a train model function which takes a particular model as a parameter and return the validation accuracy \n",
        "def train_model(model):\n",
        "  model.fit(x_train,y_train)\n",
        "  y_pred = model.predict(x_val)\n",
        "  return model, list(y_pred), metrics.accuracy_score(y_val,y_pred)"
      ],
      "metadata": {
        "id": "uX0aONOaeE-a"
      },
      "execution_count": 15,
      "outputs": []
    },
    {
      "cell_type": "markdown",
      "source": [
        "## Multinomial Naive Bayes Model "
      ],
      "metadata": {
        "id": "dVT6PxHYVJ9E"
      }
    },
    {
      "cell_type": "code",
      "source": [
        "model = MultinomialNB()\n",
        "model,predictions, accuracy = train_model(model)\n",
        "accuracy"
      ],
      "metadata": {
        "colab": {
          "base_uri": "https://localhost:8080/"
        },
        "id": "nPy-H1zfcI5D",
        "outputId": "b8a99010-6902-40d1-fb6a-f1e58cee015f"
      },
      "execution_count": 16,
      "outputs": [
        {
          "output_type": "execute_result",
          "data": {
            "text/plain": [
              "0.9496729776247849"
            ]
          },
          "metadata": {},
          "execution_count": 16
        }
      ]
    },
    {
      "cell_type": "markdown",
      "source": [
        "Tuning the Hyper Parameter Alpha of Naive Bayes"
      ],
      "metadata": {
        "id": "_N7E-E5TdfYe"
      }
    },
    {
      "cell_type": "code",
      "source": [
        "alphas = np.arange(0.1,1,0.1)"
      ],
      "metadata": {
        "id": "RNu_g8g6drL_"
      },
      "execution_count": 17,
      "outputs": []
    },
    {
      "cell_type": "code",
      "source": [
        "accuracies = []\n",
        "for a in alphas:\n",
        "  model = MultinomialNB(alpha=a)\n",
        "  model,predictions,accuracy = train_model(model)\n",
        "  accuracies.append(accuracy)"
      ],
      "metadata": {
        "id": "kv2qCUV7dtv-"
      },
      "execution_count": 18,
      "outputs": []
    },
    {
      "cell_type": "code",
      "source": [
        "plt.title('Alpha vs. Model Accuracy')\n",
        "plt.xlabel('Alpha Values')\n",
        "plt.ylabel('Model Acccuracies')\n",
        "plt.plot(alphas,accuracies)"
      ],
      "metadata": {
        "colab": {
          "base_uri": "https://localhost:8080/",
          "height": 313
        },
        "id": "bbHYjRhIeqeZ",
        "outputId": "23e89f0c-5f00-45f9-ef08-4c6fef1d8f9d"
      },
      "execution_count": 19,
      "outputs": [
        {
          "output_type": "execute_result",
          "data": {
            "text/plain": [
              "[<matplotlib.lines.Line2D at 0x7f1dcfd661d0>]"
            ]
          },
          "metadata": {},
          "execution_count": 19
        },
        {
          "output_type": "display_data",
          "data": {
            "image/png": "[encoded data removed]",
            "text/plain": [
              "<Figure size 432x288 with 1 Axes>"
            ]
          },
          "metadata": {
            "needs_background": "light"
          }
        }
      ]
    },
    {
      "cell_type": "code",
      "source": [
        "# Finding that value of alpha which pertains to the highest accuracy\n",
        "alphas[np.argmax(accuracies)]"
      ],
      "metadata": {
        "colab": {
          "base_uri": "https://localhost:8080/"
        },
        "id": "LveHspP-exRO",
        "outputId": "8ece9234-36b0-4818-8919-4b05b93e750d"
      },
      "execution_count": 20,
      "outputs": [
        {
          "output_type": "execute_result",
          "data": {
            "text/plain": [
              "0.1"
            ]
          },
          "metadata": {},
          "execution_count": 20
        }
      ]
    },
    {
      "cell_type": "code",
      "source": [
        "# Final Model \n",
        "model,predictions,accuracy = train_model(MultinomialNB(alpha=0.1))\n",
        "print(accuracy)"
      ],
      "metadata": {
        "colab": {
          "base_uri": "https://localhost:8080/"
        },
        "id": "wiK3zSLLe4u9",
        "outputId": "44892f60-c08a-42b3-bf83-8e303059f06f"
      },
      "execution_count": 21,
      "outputs": [
        {
          "output_type": "stream",
          "name": "stdout",
          "text": [
            "0.9670223752151463\n"
          ]
        }
      ]
    },
    {
      "cell_type": "code",
      "source": [
        "pickle.dump(model,open('naive_bayes.pkl', 'wb'))"
      ],
      "metadata": {
        "id": "SlfA5SwPnq4z"
      },
      "execution_count": 23,
      "outputs": []
    },
    {
      "cell_type": "markdown",
      "source": [
        "## Classification Report"
      ],
      "metadata": {
        "id": "Vzvf1uRpgRCc"
      }
    },
    {
      "cell_type": "code",
      "source": [
        "print(metrics.classification_report(y_val,predictions))"
      ],
      "metadata": {
        "colab": {
          "base_uri": "https://localhost:8080/"
        },
        "id": "MY0Uf9eMfnRM",
        "outputId": "4b9efab7-dffd-420b-ed04-21beb5fc71ef"
      },
      "execution_count": 24,
      "outputs": [
        {
          "output_type": "stream",
          "name": "stdout",
          "text": [
            "              precision    recall  f1-score   support\n",
            "\n",
            "           0       0.99      0.94      0.97      7395\n",
            "           1       0.94      0.99      0.97      7130\n",
            "\n",
            "    accuracy                           0.97     14525\n",
            "   macro avg       0.97      0.97      0.97     14525\n",
            "weighted avg       0.97      0.97      0.97     14525\n",
            "\n"
          ]
        }
      ]
    },
    {
      "cell_type": "code",
      "source": [
        ""
      ],
      "metadata": {
        "id": "Svv6SjygiJ5d"
      },
      "execution_count": 24,
      "outputs": []
    },
    {
      "cell_type": "markdown",
      "source": [
        "**Result : Naive Bayes Validation Accuray is 96.35%**"
      ],
      "metadata": {
        "id": "MPa_lLbHfEaZ"
      }
    },
    {
      "cell_type": "markdown",
      "source": [
        "## Support Vector Machines Model "
      ],
      "metadata": {
        "id": "_6zCqLwBfJf_"
      }
    },
    {
      "cell_type": "code",
      "source": [
        "model,predictions,accuracy = train_model(LinearSVC())\n",
        "print(accuracy)"
      ],
      "metadata": {
        "colab": {
          "base_uri": "https://localhost:8080/"
        },
        "id": "sZehHJemfR0S",
        "outputId": "6dc258b1-cfa9-420c-af61-7123ed07bb40"
      },
      "execution_count": 26,
      "outputs": [
        {
          "output_type": "stream",
          "name": "stdout",
          "text": [
            "0.9859552495697074\n"
          ]
        }
      ]
    },
    {
      "cell_type": "markdown",
      "source": [
        "Hyperparameter Tuning for SVM "
      ],
      "metadata": {
        "id": "Gw6kTmyljHyV"
      }
    },
    {
      "cell_type": "code",
      "source": [
        "c_values = np.arange(0.1,1,0.1)\n",
        "accuracies = []\n",
        "for c in c_values: \n",
        "  model,preds, accuracy = train_model(LinearSVC(C=c))\n",
        "  accuracies.append(accuracy)"
      ],
      "metadata": {
        "id": "X_l-lKNfhCVi"
      },
      "execution_count": 28,
      "outputs": []
    },
    {
      "cell_type": "code",
      "source": [
        "plt.title('SVM Regularization Values vs. Model Accuracy')\n",
        "plt.xlabel('SVM Regularization Values')\n",
        "plt.ylabel('Model Accuracy')\n",
        "plt.plot(c_values,accuracies)"
      ],
      "metadata": {
        "colab": {
          "base_uri": "https://localhost:8080/",
          "height": 313
        },
        "id": "qcYPpSdUjY0r",
        "outputId": "cafbd1fd-e01a-46b7-9623-7339d59a9c60"
      },
      "execution_count": 29,
      "outputs": [
        {
          "output_type": "execute_result",
          "data": {
            "text/plain": [
              "[<matplotlib.lines.Line2D at 0x7f1dcfbc6190>]"
            ]
          },
          "metadata": {},
          "execution_count": 29
        },
        {
          "output_type": "display_data",
          "data": {
            "image/png": "[encoded data removed]",
            "text/plain": [
              "<Figure size 432x288 with 1 Axes>"
            ]
          },
          "metadata": {
            "needs_background": "light"
          }
        }
      ]
    },
    {
      "cell_type": "code",
      "source": [
        "c_values[np.argmax(accuracies)]"
      ],
      "metadata": {
        "colab": {
          "base_uri": "https://localhost:8080/"
        },
        "id": "axZZgIgSjbbF",
        "outputId": "94d91044-ab0e-4634-80db-6d18847e1162"
      },
      "execution_count": null,
      "outputs": [
        {
          "output_type": "execute_result",
          "data": {
            "text/plain": [
              "0.9"
            ]
          },
          "metadata": {},
          "execution_count": 25
        }
      ]
    },
    {
      "cell_type": "code",
      "source": [
        "# Final SVM model \n",
        "model,preds, accuracy = train_model(LinearSVC(C=0.9))\n",
        "print(accuracy)"
      ],
      "metadata": {
        "colab": {
          "base_uri": "https://localhost:8080/"
        },
        "id": "xtODRo52kFJp",
        "outputId": "c9a724b0-7f0a-4da7-8519-21c34cfdda2a"
      },
      "execution_count": 30,
      "outputs": [
        {
          "output_type": "stream",
          "name": "stdout",
          "text": [
            "0.9860240963855421\n"
          ]
        }
      ]
    },
    {
      "cell_type": "markdown",
      "source": [
        "Classification Report - SVM "
      ],
      "metadata": {
        "id": "AXLAj7uSkZcg"
      }
    },
    {
      "cell_type": "code",
      "source": [
        "print(metrics.classification_report(y_val,preds))"
      ],
      "metadata": {
        "colab": {
          "base_uri": "https://localhost:8080/"
        },
        "id": "i9QzmDURkNSk",
        "outputId": "9f17a87f-71f1-427e-b7cb-d445854ee6af"
      },
      "execution_count": 31,
      "outputs": [
        {
          "output_type": "stream",
          "name": "stdout",
          "text": [
            "              precision    recall  f1-score   support\n",
            "\n",
            "           0       1.00      0.97      0.99      7395\n",
            "           1       0.97      1.00      0.99      7130\n",
            "\n",
            "    accuracy                           0.99     14525\n",
            "   macro avg       0.99      0.99      0.99     14525\n",
            "weighted avg       0.99      0.99      0.99     14525\n",
            "\n"
          ]
        }
      ]
    },
    {
      "cell_type": "code",
      "source": [
        "pickle.dump(model,open('svm.pkl','wb'))"
      ],
      "metadata": {
        "id": "nJJ4sw4WoTdQ"
      },
      "execution_count": 32,
      "outputs": []
    },
    {
      "cell_type": "markdown",
      "source": [
        "**Result - SVM validation Accuracy is 98.6%**"
      ],
      "metadata": {
        "id": "6vp1E5pDkxql"
      }
    },
    {
      "cell_type": "markdown",
      "source": [
        "## Saving Vectorizer and TFIDF Transformer"
      ],
      "metadata": {
        "id": "NAmnTY1xpm1P"
      }
    },
    {
      "cell_type": "code",
      "source": [
        "pickle.dump(vectorizer,open('count_vectorizer.pkl','wb'))\n",
        "pickle.dump(transformer,open('tfidf_transformer.pkl','wb'))"
      ],
      "metadata": {
        "id": "cbbTdSoPkVdp"
      },
      "execution_count": 33,
      "outputs": []
    },
    {
      "cell_type": "markdown",
      "source": [
        "## The End"
      ],
      "metadata": {
        "id": "4kjnLFfWkTLN"
      }
    },
    {
      "cell_type": "code",
      "source": [
        "with open('/content/count_vectorizer.pkl','rb') as f:\n",
        "  vec = pickle.load(f)"
      ],
      "metadata": {
        "id": "dP-T6WaNo0UA"
      },
      "execution_count": 35,
      "outputs": []
    },
    {
      "cell_type": "code",
      "source": [
        "with open('/content/tfidf_transformer.pkl','rb') as f:\n",
        "  trans=pickle.load(f)"
      ],
      "metadata": {
        "id": "0VQT6L12pDLi"
      },
      "execution_count": 36,
      "outputs": []
    },
    {
      "cell_type": "code",
      "source": [
        "x_test_vec = vec.transform(x_test)\n",
        "x_test_tfidf = trans.transform(x_test_vec)"
      ],
      "metadata": {
        "id": "J0rl0PJIpP0O"
      },
      "execution_count": 37,
      "outputs": []
    },
    {
      "cell_type": "code",
      "source": [
        ""
      ],
      "metadata": {
        "id": "aLBj3nd7pZgj"
      },
      "execution_count": 42,
      "outputs": []
    },
    {
      "cell_type": "code",
      "source": [
        ""
      ],
      "metadata": {
        "id": "znldug5tpbxN"
      },
      "execution_count": null,
      "outputs": []
    }
  ]
}