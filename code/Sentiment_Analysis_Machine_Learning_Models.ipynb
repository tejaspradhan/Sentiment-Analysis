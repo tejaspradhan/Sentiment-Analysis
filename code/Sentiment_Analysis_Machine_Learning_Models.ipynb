{
  "nbformat": 4,
  "nbformat_minor": 0,
  "metadata": {
    "colab": {
      "name": "Sentiment_Analysis-Machine_Learning_Models.ipynb",
      "provenance": [],
      "collapsed_sections": [],
      "authorship_tag": "ABX9TyPZ1uJpsRIaMe0NB7YRJ0AR",
      "include_colab_link": true
    },
    "kernelspec": {
      "name": "python3",
      "display_name": "Python 3"
    },
    "language_info": {
      "name": "python"
    }
  },
  "cells": [
    {
      "cell_type": "markdown",
      "metadata": {
        "id": "view-in-github",
        "colab_type": "text"
      },
      "source": [
        "<a href=\"https://colab.research.google.com/github/tejaspradhan/Sentiment-Analysis/blob/main/code/Sentiment_Analysis_Machine_Learning_Models.ipynb\" target=\"_parent\"><img src=\"https://colab.research.google.com/assets/colab-badge.svg\" alt=\"Open In Colab\"/></a>"
      ]
    },
    {
      "cell_type": "markdown",
      "source": [
        "# Applying Text Classification Algorithms on Preprocessed Data"
      ],
      "metadata": {
        "id": "ihzEo2wvRPJg"
      }
    },
    {
      "cell_type": "markdown",
      "source": [
        "## Importing Libraries"
      ],
      "metadata": {
        "id": "k8AY9OfIRIkG"
      }
    },
    {
      "cell_type": "code",
      "source": [
        "import numpy as np\n",
        "import pandas as pd\n",
        "import matplotlib.pyplot as plt\n",
        "from imblearn.over_sampling import SMOTE\n",
        "\n",
        "from sklearn.model_selection import train_test_split\n",
        "from sklearn.feature_extraction.text import CountVectorizer\n",
        "from sklearn.feature_extraction.text import TfidfTransformer\n",
        "from sklearn.naive_bayes import MultinomialNB\n",
        "from sklearn.svm import LinearSVC\n",
        "from sklearn.neighbors import KNeighborsClassifier\n",
        "from sklearn import metrics"
      ],
      "metadata": {
        "id": "YBn68k_9ShTi"
      },
      "execution_count": 1,
      "outputs": []
    },
    {
      "cell_type": "code",
      "source": [
        "train_data = pd.read_csv('train_preprocessed.csv')\n",
        "test_data = pd.read_csv('test_preprocessed.csv')"
      ],
      "metadata": {
        "id": "gyI8_TnHTUOH"
      },
      "execution_count": 2,
      "outputs": []
    },
    {
      "cell_type": "markdown",
      "source": [
        "## Approach \n",
        "1. Convert Words to Appropriate Word Vectors - Count Vectorizer & TF-IDF\n",
        "\n",
        "\n",
        "2. Feed The Vectorized word arrays to classification algorithm and train the model\n",
        "\n",
        "\n",
        "3. Evaluate model on test data"
      ],
      "metadata": {
        "id": "6-7WDw_XSJXa"
      }
    },
    {
      "cell_type": "code",
      "source": [
        "# Instantiating Count Vectorizer and TF-IDF transformer\n",
        "vectorizer = CountVectorizer()\n",
        "transformer = TfidfTransformer()"
      ],
      "metadata": {
        "id": "_JZMrNU-S-At"
      },
      "execution_count": 3,
      "outputs": []
    },
    {
      "cell_type": "code",
      "source": [
        "x,y = train_data['cleaned_tweet'],train_data['label']\n",
        "x.shape,y.shape"
      ],
      "metadata": {
        "colab": {
          "base_uri": "https://localhost:8080/"
        },
        "id": "ZNjg22f_e7LI",
        "outputId": "781516bc-e063-4bd2-a56a-57e175b5c695"
      },
      "execution_count": 4,
      "outputs": [
        {
          "output_type": "execute_result",
          "data": {
            "text/plain": [
              "((31962,), (31962,))"
            ]
          },
          "metadata": {},
          "execution_count": 4
        }
      ]
    },
    {
      "cell_type": "code",
      "source": [
        "# vectorising the word corpus into count vectors\n",
        "x_vec = vectorizer.fit_transform(x)\n",
        "x_tfidf = transformer.fit_transform(x_vec)"
      ],
      "metadata": {
        "id": "nC9Nj1qvUON8"
      },
      "execution_count": 5,
      "outputs": []
    },
    {
      "cell_type": "code",
      "source": [
        "x_tfidf.shape, y.shape"
      ],
      "metadata": {
        "colab": {
          "base_uri": "https://localhost:8080/"
        },
        "id": "69dEKy4vfuxN",
        "outputId": "574c6b7e-47ab-4e8b-b022-364adb06f5df"
      },
      "execution_count": 6,
      "outputs": [
        {
          "output_type": "execute_result",
          "data": {
            "text/plain": [
              "((31962, 37235), (31962,))"
            ]
          },
          "metadata": {},
          "execution_count": 6
        }
      ]
    },
    {
      "cell_type": "markdown",
      "source": [
        "## Oversampling the Minority Class - 1\n",
        "As the dataset is imbalanced, we need to first balance it by oversampling. Else, we may get misleading accuracies whereas the model will be biased towards 1 particular class"
      ],
      "metadata": {
        "id": "j45lIpTreDJd"
      }
    },
    {
      "cell_type": "code",
      "source": [
        "resampler= SMOTE()"
      ],
      "metadata": {
        "id": "A6BvF0QkfxbL"
      },
      "execution_count": 7,
      "outputs": []
    },
    {
      "cell_type": "code",
      "source": [
        "x_tfidf,y = resampler.fit_resample(x_tfidf,y)"
      ],
      "metadata": {
        "id": "K2JG2bRLgWBZ"
      },
      "execution_count": 8,
      "outputs": []
    },
    {
      "cell_type": "code",
      "source": [
        "y.value_counts().plot(kind='bar')"
      ],
      "metadata": {
        "colab": {
          "base_uri": "https://localhost:8080/",
          "height": 279
        },
        "id": "KEFFx4T1gdRo",
        "outputId": "31048b7d-cbff-4855-a19f-3c266f496dc1"
      },
      "execution_count": 9,
      "outputs": [
        {
          "output_type": "execute_result",
          "data": {
            "text/plain": [
              "<matplotlib.axes._subplots.AxesSubplot at 0x7f371964cf10>"
            ]
          },
          "metadata": {},
          "execution_count": 9
        },
        {
          "output_type": "display_data",
          "data": {
            "image/png": "[encoded data removed]",
            "text/plain": [
              "<Figure size 432x288 with 1 Axes>"
            ]
          },
          "metadata": {
            "needs_background": "light"
          }
        }
      ]
    },
    {
      "cell_type": "markdown",
      "source": [
        "## Splitting the Training Data Into Training and Validation Sets"
      ],
      "metadata": {
        "id": "AU3T8KvXUi2Q"
      }
    },
    {
      "cell_type": "code",
      "source": [
        " x_train,x_val,y_train,y_val = train_test_split(x_tfidf,y,test_size=0.3)"
      ],
      "metadata": {
        "id": "M-d3HVZxTOzS"
      },
      "execution_count": 10,
      "outputs": []
    },
    {
      "cell_type": "code",
      "source": [
        "x_train.shape, y_train.shape,x_val.shape, y_val.shape"
      ],
      "metadata": {
        "colab": {
          "base_uri": "https://localhost:8080/"
        },
        "id": "3kR_UWncUNYf",
        "outputId": "b9e9bd41-78eb-4a67-de42-385a21b6e2b9"
      },
      "execution_count": 11,
      "outputs": [
        {
          "output_type": "execute_result",
          "data": {
            "text/plain": [
              "((41608, 37235), (41608,), (17832, 37235), (17832,))"
            ]
          },
          "metadata": {},
          "execution_count": 11
        }
      ]
    },
    {
      "cell_type": "code",
      "source": [
        "x_test = test_data['cleaned_tweet']\n",
        "x_test.shape"
      ],
      "metadata": {
        "colab": {
          "base_uri": "https://localhost:8080/"
        },
        "id": "WQFbD67hU9Rj",
        "outputId": "3f520ccd-af10-4589-e7af-f276273a93f7"
      },
      "execution_count": 12,
      "outputs": [
        {
          "output_type": "execute_result",
          "data": {
            "text/plain": [
              "(17197,)"
            ]
          },
          "metadata": {},
          "execution_count": 12
        }
      ]
    },
    {
      "cell_type": "code",
      "source": [
        "x_train[0:5] # Each row in this is a string"
      ],
      "metadata": {
        "colab": {
          "base_uri": "https://localhost:8080/"
        },
        "id": "GzIUNGV0VwBc",
        "outputId": "5485828f-05e2-40f2-b508-b038b5ac8f1b"
      },
      "execution_count": 13,
      "outputs": [
        {
          "output_type": "execute_result",
          "data": {
            "text/plain": [
              "<5x37235 sparse matrix of type '<class 'numpy.float64'>'\n",
              "\twith 89 stored elements in Compressed Sparse Row format>"
            ]
          },
          "metadata": {},
          "execution_count": 13
        }
      ]
    },
    {
      "cell_type": "markdown",
      "source": [
        "## Model Training "
      ],
      "metadata": {
        "id": "94c8qp0FeV54"
      }
    },
    {
      "cell_type": "code",
      "source": [
        "# Defining a train model function which takes a particular model as a parameter and return the validation accuracy \n",
        "def train_model(model):\n",
        "  model.fit(x_train,y_train)\n",
        "  y_pred = model.predict(x_val)\n",
        "  return list(y_pred), metrics.accuracy_score(y_val,y_pred)"
      ],
      "metadata": {
        "id": "uX0aONOaeE-a"
      },
      "execution_count": 14,
      "outputs": []
    },
    {
      "cell_type": "markdown",
      "source": [
        "## Multinomial Naive Bayes Model "
      ],
      "metadata": {
        "id": "dVT6PxHYVJ9E"
      }
    },
    {
      "cell_type": "code",
      "source": [
        "model = MultinomialNB()\n",
        "predictions, accuracy = train_model(model)\n",
        "accuracy"
      ],
      "metadata": {
        "colab": {
          "base_uri": "https://localhost:8080/"
        },
        "id": "nPy-H1zfcI5D",
        "outputId": "0b28782a-bc3e-4d19-e776-7146c81c8a22"
      },
      "execution_count": 15,
      "outputs": [
        {
          "output_type": "execute_result",
          "data": {
            "text/plain": [
              "0.9497532525796322"
            ]
          },
          "metadata": {},
          "execution_count": 15
        }
      ]
    },
    {
      "cell_type": "markdown",
      "source": [
        "Tuning the Hyper Parameter Alpha of Naive Bayes"
      ],
      "metadata": {
        "id": "_N7E-E5TdfYe"
      }
    },
    {
      "cell_type": "code",
      "source": [
        "alphas = np.arange(0.1,1,0.1)"
      ],
      "metadata": {
        "id": "RNu_g8g6drL_"
      },
      "execution_count": 16,
      "outputs": []
    },
    {
      "cell_type": "code",
      "source": [
        "accuracies = []\n",
        "for a in alphas:\n",
        "  model = MultinomialNB(alpha=a)\n",
        "  predictions,accuracy = train_model(model)\n",
        "  accuracies.append(accuracy)"
      ],
      "metadata": {
        "id": "kv2qCUV7dtv-"
      },
      "execution_count": 17,
      "outputs": []
    },
    {
      "cell_type": "code",
      "source": [
        "plt.title('Alpha vs. Model Accuracy')\n",
        "plt.xlabel('Alpha Values')\n",
        "plt.ylabel('Model Acccuracies')\n",
        "plt.plot(alphas,accuracies)"
      ],
      "metadata": {
        "colab": {
          "base_uri": "https://localhost:8080/",
          "height": 313
        },
        "id": "bbHYjRhIeqeZ",
        "outputId": "6f028f15-b601-40b5-da61-a59f69b14839"
      },
      "execution_count": 18,
      "outputs": [
        {
          "output_type": "execute_result",
          "data": {
            "text/plain": [
              "[<matplotlib.lines.Line2D at 0x7f3719039a50>]"
            ]
          },
          "metadata": {},
          "execution_count": 18
        },
        {
          "output_type": "display_data",
          "data": {
            "image/png": "[encoded data removed]",
            "text/plain": [
              "<Figure size 432x288 with 1 Axes>"
            ]
          },
          "metadata": {
            "needs_background": "light"
          }
        }
      ]
    },
    {
      "cell_type": "code",
      "source": [
        "# Finding that value of alpha which pertains to the highest accuracy\n",
        "alphas[np.argmax(accuracies)]"
      ],
      "metadata": {
        "colab": {
          "base_uri": "https://localhost:8080/"
        },
        "id": "LveHspP-exRO",
        "outputId": "1599819b-7c7f-456b-d927-5046454cccaa"
      },
      "execution_count": 19,
      "outputs": [
        {
          "output_type": "execute_result",
          "data": {
            "text/plain": [
              "0.1"
            ]
          },
          "metadata": {},
          "execution_count": 19
        }
      ]
    },
    {
      "cell_type": "code",
      "source": [
        "# Final Model \n",
        "predictions,accuracy = train_model(MultinomialNB(alpha=0.1))\n",
        "print(accuracy)"
      ],
      "metadata": {
        "colab": {
          "base_uri": "https://localhost:8080/"
        },
        "id": "wiK3zSLLe4u9",
        "outputId": "133cef50-2a7d-4526-dfd0-eac5dbfa41df"
      },
      "execution_count": 20,
      "outputs": [
        {
          "output_type": "stream",
          "name": "stdout",
          "text": [
            "0.9650628084342755\n"
          ]
        }
      ]
    },
    {
      "cell_type": "markdown",
      "source": [
        "## Classification Report"
      ],
      "metadata": {
        "id": "Vzvf1uRpgRCc"
      }
    },
    {
      "cell_type": "code",
      "source": [
        "print(metrics.classification_report(y_val,predictions))"
      ],
      "metadata": {
        "colab": {
          "base_uri": "https://localhost:8080/"
        },
        "id": "MY0Uf9eMfnRM",
        "outputId": "a00051e7-4dce-44c2-fe99-e066bf82309f"
      },
      "execution_count": 21,
      "outputs": [
        {
          "output_type": "stream",
          "name": "stdout",
          "text": [
            "              precision    recall  f1-score   support\n",
            "\n",
            "           0       0.99      0.94      0.96      8991\n",
            "           1       0.94      0.99      0.97      8841\n",
            "\n",
            "    accuracy                           0.97     17832\n",
            "   macro avg       0.97      0.97      0.97     17832\n",
            "weighted avg       0.97      0.97      0.97     17832\n",
            "\n"
          ]
        }
      ]
    },
    {
      "cell_type": "code",
      "source": [
        ""
      ],
      "metadata": {
        "id": "Svv6SjygiJ5d"
      },
      "execution_count": 21,
      "outputs": []
    },
    {
      "cell_type": "markdown",
      "source": [
        "**Result : Naive Bayes Validation Accuray is 96.35%**"
      ],
      "metadata": {
        "id": "MPa_lLbHfEaZ"
      }
    },
    {
      "cell_type": "markdown",
      "source": [
        "## Support Vector Machines Model "
      ],
      "metadata": {
        "id": "_6zCqLwBfJf_"
      }
    },
    {
      "cell_type": "code",
      "source": [
        "predictions,accuracy = train_model(LinearSVC())\n",
        "print(accuracy)"
      ],
      "metadata": {
        "colab": {
          "base_uri": "https://localhost:8080/"
        },
        "id": "sZehHJemfR0S",
        "outputId": "15b0ac67-a35a-497b-deb9-7bc9e15514e5"
      },
      "execution_count": 22,
      "outputs": [
        {
          "output_type": "stream",
          "name": "stdout",
          "text": [
            "0.9866532077164648\n"
          ]
        }
      ]
    },
    {
      "cell_type": "markdown",
      "source": [
        "Hyperparameter Tuning for SVM "
      ],
      "metadata": {
        "id": "Gw6kTmyljHyV"
      }
    },
    {
      "cell_type": "code",
      "source": [
        "c_values = np.arange(0.1,1,0.1)\n",
        "accuracies = []\n",
        "for c in c_values: \n",
        "  preds, accuracy = train_model(LinearSVC(C=c))\n",
        "  accuracies.append(accuracy)"
      ],
      "metadata": {
        "id": "X_l-lKNfhCVi"
      },
      "execution_count": 23,
      "outputs": []
    },
    {
      "cell_type": "code",
      "source": [
        "plt.title('SVM Regularization Values vs. Model Accuracy')\n",
        "plt.xlabel('SVM Regularization Values')\n",
        "plt.ylabel('Model Accuracy')\n",
        "plt.plot(c_values,accuracies)"
      ],
      "metadata": {
        "colab": {
          "base_uri": "https://localhost:8080/",
          "height": 313
        },
        "id": "qcYPpSdUjY0r",
        "outputId": "8f5f8582-2caa-4c81-8e35-71d43f484f43"
      },
      "execution_count": 24,
      "outputs": [
        {
          "output_type": "execute_result",
          "data": {
            "text/plain": [
              "[<matplotlib.lines.Line2D at 0x7f3719022a90>]"
            ]
          },
          "metadata": {},
          "execution_count": 24
        },
        {
          "output_type": "display_data",
          "data": {
            "image/png": "[encoded data removed]",
            "text/plain": [
              "<Figure size 432x288 with 1 Axes>"
            ]
          },
          "metadata": {
            "needs_background": "light"
          }
        }
      ]
    },
    {
      "cell_type": "code",
      "source": [
        "c_values[np.argmax(accuracies)]"
      ],
      "metadata": {
        "colab": {
          "base_uri": "https://localhost:8080/"
        },
        "id": "axZZgIgSjbbF",
        "outputId": "94d91044-ab0e-4634-80db-6d18847e1162"
      },
      "execution_count": 25,
      "outputs": [
        {
          "output_type": "execute_result",
          "data": {
            "text/plain": [
              "0.9"
            ]
          },
          "metadata": {},
          "execution_count": 25
        }
      ]
    },
    {
      "cell_type": "code",
      "source": [
        "# Final SVM model \n",
        "preds, accuracy = train_model(LinearSVC(C=0.9))\n",
        "print(accuracy)"
      ],
      "metadata": {
        "colab": {
          "base_uri": "https://localhost:8080/"
        },
        "id": "xtODRo52kFJp",
        "outputId": "0da128aa-4013-4684-b728-6ebe306c404e"
      },
      "execution_count": 26,
      "outputs": [
        {
          "output_type": "stream",
          "name": "stdout",
          "text": [
            "0.9864288918797667\n"
          ]
        }
      ]
    },
    {
      "cell_type": "markdown",
      "source": [
        "Classification Report - SVM "
      ],
      "metadata": {
        "id": "AXLAj7uSkZcg"
      }
    },
    {
      "cell_type": "code",
      "source": [
        "print(metrics.classification_report(y_val,preds))"
      ],
      "metadata": {
        "colab": {
          "base_uri": "https://localhost:8080/"
        },
        "id": "i9QzmDURkNSk",
        "outputId": "e685e9e5-0a94-4dd6-ea65-aa5798b5e7ef"
      },
      "execution_count": 27,
      "outputs": [
        {
          "output_type": "stream",
          "name": "stdout",
          "text": [
            "              precision    recall  f1-score   support\n",
            "\n",
            "           0       1.00      0.97      0.99      8991\n",
            "           1       0.97      1.00      0.99      8841\n",
            "\n",
            "    accuracy                           0.99     17832\n",
            "   macro avg       0.99      0.99      0.99     17832\n",
            "weighted avg       0.99      0.99      0.99     17832\n",
            "\n"
          ]
        }
      ]
    },
    {
      "cell_type": "markdown",
      "source": [
        "**Result - SVM validation Accuracy is 98.6%**"
      ],
      "metadata": {
        "id": "6vp1E5pDkxql"
      }
    },
    {
      "cell_type": "markdown",
      "source": [
        "## The End"
      ],
      "metadata": {
        "id": "4kjnLFfWkTLN"
      }
    },
    {
      "cell_type": "code",
      "source": [
        ""
      ],
      "metadata": {
        "id": "cbbTdSoPkVdp"
      },
      "execution_count": null,
      "outputs": []
    }
  ]
}