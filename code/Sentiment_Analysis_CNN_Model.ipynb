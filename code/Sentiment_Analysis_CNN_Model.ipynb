{
  "nbformat": 4,
  "nbformat_minor": 0,
  "metadata": {
    "colab": {
      "name": "Sentiment_Analysis_CNN_Model.ipynb",
      "provenance": [],
      "authorship_tag": "ABX9TyP6Qh8AMtkGIQQADkm4tk4x",
      "include_colab_link": true
    },
    "kernelspec": {
      "name": "python3",
      "display_name": "Python 3"
    },
    "language_info": {
      "name": "python"
    }
  },
  "cells": [
    {
      "cell_type": "markdown",
      "metadata": {
        "id": "view-in-github",
        "colab_type": "text"
      },
      "source": [
        "<a href=\"https://colab.research.google.com/github/tejaspradhan/Sentiment-Analysis/blob/main/code/Sentiment_Analysis_CNN_Model.ipynb\" target=\"_parent\"><img src=\"https://colab.research.google.com/assets/colab-badge.svg\" alt=\"Open In Colab\"/></a>"
      ]
    },
    {
      "cell_type": "markdown",
      "source": [
        "# Applying a 1-D Convolutional Neural Network on Twitter Data"
      ],
      "metadata": {
        "id": "8wNCR8VzAYZn"
      }
    },
    {
      "cell_type": "markdown",
      "source": [
        "## Importing the Necessary Libraries"
      ],
      "metadata": {
        "id": "A0uWUGd-Ad3e"
      }
    },
    {
      "cell_type": "code",
      "execution_count": 1,
      "metadata": {
        "id": "LS4ZkCHvk3uO"
      },
      "outputs": [],
      "source": [
        "import numpy as np \n",
        "import pandas as pd \n",
        "import matplotlib.pyplot as plt\n",
        "\n",
        "from tensorflow.keras.preprocessing import sequence,text\n",
        "from tensorflow.keras.models import Sequential\n",
        "from tensorflow.keras.layers import Conv1D, Dense, Flatten, Embedding, MaxPool1D,Dropout\n",
        "\n",
        "from sklearn.model_selection import train_test_split\n",
        "from imblearn.over_sampling import SMOTE\n",
        "\n",
        "import pickle"
      ]
    },
    {
      "cell_type": "markdown",
      "source": [
        "## Reading the Data and Splitting into X, Y"
      ],
      "metadata": {
        "id": "NTTXWVCRH5mH"
      }
    },
    {
      "cell_type": "code",
      "source": [
        "data = pd.read_csv('/content/train_preprocessed.csv')"
      ],
      "metadata": {
        "id": "RMVWEFmFxzPZ"
      },
      "execution_count": 2,
      "outputs": []
    },
    {
      "cell_type": "code",
      "source": [
        "data.head()"
      ],
      "metadata": {
        "colab": {
          "base_uri": "https://localhost:8080/",
          "height": 206
        },
        "id": "LmcIox3_51KA",
        "outputId": "e114fccf-81cd-4c37-eb2c-a13d58a00ad0"
      },
      "execution_count": 3,
      "outputs": [
        {
          "output_type": "execute_result",
          "data": {
            "text/html": [
              "<div>\n",
              "<style scoped>\n",
              "    .dataframe tbody tr th:only-of-type {\n",
              "        vertical-align: middle;\n",
              "    }\n",
              "\n",
              "    .dataframe tbody tr th {\n",
              "        vertical-align: top;\n",
              "    }\n",
              "\n",
              "    .dataframe thead th {\n",
              "        text-align: right;\n",
              "    }\n",
              "</style>\n",
              "<table border=\"1\" class=\"dataframe\">\n",
              "  <thead>\n",
              "    <tr style=\"text-align: right;\">\n",
              "      <th></th>\n",
              "      <th>Unnamed: 0</th>\n",
              "      <th>label</th>\n",
              "      <th>cleaned_tweet</th>\n",
              "    </tr>\n",
              "  </thead>\n",
              "  <tbody>\n",
              "    <tr>\n",
              "      <th>0</th>\n",
              "      <td>0</td>\n",
              "      <td>0</td>\n",
              "      <td>user when a father is dysfunctional and is so...</td>\n",
              "    </tr>\n",
              "    <tr>\n",
              "      <th>1</th>\n",
              "      <td>1</td>\n",
              "      <td>0</td>\n",
              "      <td>user user thanks for lyft credit i cant use c...</td>\n",
              "    </tr>\n",
              "    <tr>\n",
              "      <th>2</th>\n",
              "      <td>2</td>\n",
              "      <td>0</td>\n",
              "      <td>bihday your majesty</td>\n",
              "    </tr>\n",
              "    <tr>\n",
              "      <th>3</th>\n",
              "      <td>3</td>\n",
              "      <td>0</td>\n",
              "      <td>model i love u take with u all the time in ur</td>\n",
              "    </tr>\n",
              "    <tr>\n",
              "      <th>4</th>\n",
              "      <td>4</td>\n",
              "      <td>0</td>\n",
              "      <td>factsguide society now motivation</td>\n",
              "    </tr>\n",
              "  </tbody>\n",
              "</table>\n",
              "</div>"
            ],
            "text/plain": [
              "   Unnamed: 0  label                                      cleaned_tweet\n",
              "0           0      0   user when a father is dysfunctional and is so...\n",
              "1           1      0   user user thanks for lyft credit i cant use c...\n",
              "2           2      0                                bihday your majesty\n",
              "3           3      0      model i love u take with u all the time in ur\n",
              "4           4      0                  factsguide society now motivation"
            ]
          },
          "metadata": {},
          "execution_count": 3
        }
      ]
    },
    {
      "cell_type": "code",
      "source": [
        "x,y = data['cleaned_tweet'],data['label']\n",
        "x.shape,y.shape"
      ],
      "metadata": {
        "colab": {
          "base_uri": "https://localhost:8080/"
        },
        "id": "tIMupGYf52C-",
        "outputId": "9f10d3c9-1e45-4daa-dff1-bcc59105eaa6"
      },
      "execution_count": 4,
      "outputs": [
        {
          "output_type": "execute_result",
          "data": {
            "text/plain": [
              "((31962,), (31962,))"
            ]
          },
          "metadata": {},
          "execution_count": 4
        }
      ]
    },
    {
      "cell_type": "markdown",
      "source": [
        "## Converting words to Vectors using Tokenizer "
      ],
      "metadata": {
        "id": "hOLqh6gDH--o"
      }
    },
    {
      "cell_type": "code",
      "source": [
        "tokenizer = text.Tokenizer(num_words=50)\n",
        "tokenizer.fit_on_texts(x)\n",
        "x_mat = tokenizer.texts_to_matrix(x)\n",
        "x_vec = sequence.pad_sequences(x_mat,maxlen=50)"
      ],
      "metadata": {
        "id": "ESJRh4FH8Ie_"
      },
      "execution_count": 5,
      "outputs": []
    },
    {
      "cell_type": "markdown",
      "source": [
        "## Using SMOTE to oversample the minority Class\n",
        "\n",
        "As the dataset is imbalanced"
      ],
      "metadata": {
        "id": "ICsaKnSHIEML"
      }
    },
    {
      "cell_type": "code",
      "source": [
        "resampler = SMOTE()\n",
        "x_vec,y = resampler.fit_resample(x_vec,y)"
      ],
      "metadata": {
        "id": "JiBeP-c0_Gqi"
      },
      "execution_count": 6,
      "outputs": []
    },
    {
      "cell_type": "markdown",
      "source": [
        "Splitting into Training and Test Sets"
      ],
      "metadata": {
        "id": "8hEdiHGVIUpX"
      }
    },
    {
      "cell_type": "code",
      "source": [
        "x_train,x_test,y_train,y_test = train_test_split(x_vec,y,test_size=0.3)"
      ],
      "metadata": {
        "id": "ZA-oZ1VZ_M2z"
      },
      "execution_count": 7,
      "outputs": []
    },
    {
      "cell_type": "code",
      "source": [
        "x_train.shape,x_test.shape,y_train.shape,y_test.shape"
      ],
      "metadata": {
        "colab": {
          "base_uri": "https://localhost:8080/"
        },
        "id": "dIIficSGIafQ",
        "outputId": "3b24e311-ff59-4de2-f551-c9a731c0dc31"
      },
      "execution_count": 8,
      "outputs": [
        {
          "output_type": "execute_result",
          "data": {
            "text/plain": [
              "((41608, 50), (17832, 50), (41608,), (17832,))"
            ]
          },
          "metadata": {},
          "execution_count": 8
        }
      ]
    },
    {
      "cell_type": "markdown",
      "source": [
        "## Building the CNN Model"
      ],
      "metadata": {
        "id": "9UKyENxoIcVu"
      }
    },
    {
      "cell_type": "code",
      "source": [
        "model = Sequential()\n",
        "model.add(Embedding(50,10,input_length=50))\n",
        "model.add(Conv1D(64, kernel_size=3))\n",
        "model.add(MaxPool1D())\n",
        "model.add(Dropout(0.3))\n",
        "model.add(Conv1D(64, kernel_size=3))\n",
        "model.add(MaxPool1D())\n",
        "model.add(Flatten())\n",
        "model.add(Dense(32,activation='relu'))\n",
        "model.add(Dense(32,activation='relu'))\n",
        "model.add(Dense(1,activation='sigmoid'))"
      ],
      "metadata": {
        "id": "y0_1lDT2ASxR"
      },
      "execution_count": 9,
      "outputs": []
    },
    {
      "cell_type": "code",
      "source": [
        "model.summary()"
      ],
      "metadata": {
        "colab": {
          "base_uri": "https://localhost:8080/"
        },
        "id": "8H36kiVgesVb",
        "outputId": "d80f16f3-b203-495e-a047-fc677ac11d45"
      },
      "execution_count": 10,
      "outputs": [
        {
          "output_type": "stream",
          "name": "stdout",
          "text": [
            "Model: \"sequential\"\n",
            "_________________________________________________________________\n",
            " Layer (type)                Output Shape              Param #   \n",
            "=================================================================\n",
            " embedding (Embedding)       (None, 50, 10)            500       \n",
            "                                                                 \n",
            " conv1d (Conv1D)             (None, 48, 64)            1984      \n",
            "                                                                 \n",
            " max_pooling1d (MaxPooling1D  (None, 24, 64)           0         \n",
            " )                                                               \n",
            "                                                                 \n",
            " dropout (Dropout)           (None, 24, 64)            0         \n",
            "                                                                 \n",
            " conv1d_1 (Conv1D)           (None, 22, 64)            12352     \n",
            "                                                                 \n",
            " max_pooling1d_1 (MaxPooling  (None, 11, 64)           0         \n",
            " 1D)                                                             \n",
            "                                                                 \n",
            " flatten (Flatten)           (None, 704)               0         \n",
            "                                                                 \n",
            " dense (Dense)               (None, 32)                22560     \n",
            "                                                                 \n",
            " dense_1 (Dense)             (None, 32)                1056      \n",
            "                                                                 \n",
            " dense_2 (Dense)             (None, 1)                 33        \n",
            "                                                                 \n",
            "=================================================================\n",
            "Total params: 38,485\n",
            "Trainable params: 38,485\n",
            "Non-trainable params: 0\n",
            "_________________________________________________________________\n"
          ]
        }
      ]
    },
    {
      "cell_type": "code",
      "source": [
        "model.compile(loss='binary_crossentropy',optimizer='adam',metrics=['accuracy'])"
      ],
      "metadata": {
        "id": "OA-NJhmpdrcl"
      },
      "execution_count": 11,
      "outputs": []
    },
    {
      "cell_type": "markdown",
      "source": [
        "## Fitting the Model on Training Data"
      ],
      "metadata": {
        "id": "cLRsbHmlIgNF"
      }
    },
    {
      "cell_type": "code",
      "source": [
        "history = model.fit(x_train,y_train,epochs = 50, validation_data=(x_test,y_test))"
      ],
      "metadata": {
        "colab": {
          "base_uri": "https://localhost:8080/"
        },
        "id": "OTLX1Q6ye0Hh",
        "outputId": "2e06e8f6-a69c-400c-8d23-801be737066f"
      },
      "execution_count": 12,
      "outputs": [
        {
          "output_type": "stream",
          "name": "stdout",
          "text": [
            "Epoch 1/50\n",
            "1301/1301 [==============================] - 14s 10ms/step - loss: 0.4795 - accuracy: 0.7641 - val_loss: 0.4465 - val_accuracy: 0.7816\n",
            "Epoch 2/50\n",
            "1301/1301 [==============================] - 13s 10ms/step - loss: 0.4297 - accuracy: 0.7948 - val_loss: 0.4243 - val_accuracy: 0.7939\n",
            "Epoch 3/50\n",
            "1301/1301 [==============================] - 13s 10ms/step - loss: 0.4100 - accuracy: 0.8061 - val_loss: 0.4165 - val_accuracy: 0.8023\n",
            "Epoch 4/50\n",
            "1301/1301 [==============================] - 15s 11ms/step - loss: 0.3933 - accuracy: 0.8149 - val_loss: 0.4022 - val_accuracy: 0.8132\n",
            "Epoch 5/50\n",
            "1301/1301 [==============================] - 14s 11ms/step - loss: 0.3826 - accuracy: 0.8210 - val_loss: 0.3955 - val_accuracy: 0.8187\n",
            "Epoch 6/50\n",
            "1301/1301 [==============================] - 14s 11ms/step - loss: 0.3736 - accuracy: 0.8265 - val_loss: 0.3938 - val_accuracy: 0.8184\n",
            "Epoch 7/50\n",
            "1301/1301 [==============================] - 14s 11ms/step - loss: 0.3652 - accuracy: 0.8305 - val_loss: 0.3813 - val_accuracy: 0.8271\n",
            "Epoch 8/50\n",
            "1301/1301 [==============================] - 13s 10ms/step - loss: 0.3606 - accuracy: 0.8320 - val_loss: 0.3867 - val_accuracy: 0.8214\n",
            "Epoch 9/50\n",
            "1301/1301 [==============================] - 13s 10ms/step - loss: 0.3540 - accuracy: 0.8344 - val_loss: 0.3756 - val_accuracy: 0.8283\n",
            "Epoch 10/50\n",
            "1301/1301 [==============================] - 14s 11ms/step - loss: 0.3518 - accuracy: 0.8356 - val_loss: 0.3710 - val_accuracy: 0.8328\n",
            "Epoch 11/50\n",
            "1301/1301 [==============================] - 14s 11ms/step - loss: 0.3466 - accuracy: 0.8375 - val_loss: 0.3784 - val_accuracy: 0.8278\n",
            "Epoch 12/50\n",
            "1301/1301 [==============================] - 15s 11ms/step - loss: 0.3437 - accuracy: 0.8406 - val_loss: 0.3732 - val_accuracy: 0.8326\n",
            "Epoch 13/50\n",
            "1301/1301 [==============================] - 13s 10ms/step - loss: 0.3402 - accuracy: 0.8428 - val_loss: 0.3757 - val_accuracy: 0.8325\n",
            "Epoch 14/50\n",
            "1301/1301 [==============================] - 13s 10ms/step - loss: 0.3354 - accuracy: 0.8433 - val_loss: 0.3788 - val_accuracy: 0.8335\n",
            "Epoch 15/50\n",
            "1301/1301 [==============================] - 13s 10ms/step - loss: 0.3328 - accuracy: 0.8443 - val_loss: 0.3754 - val_accuracy: 0.8295\n",
            "Epoch 16/50\n",
            "1301/1301 [==============================] - 14s 11ms/step - loss: 0.3318 - accuracy: 0.8459 - val_loss: 0.3687 - val_accuracy: 0.8359\n",
            "Epoch 17/50\n",
            "1301/1301 [==============================] - 15s 11ms/step - loss: 0.3281 - accuracy: 0.8465 - val_loss: 0.3846 - val_accuracy: 0.8262\n",
            "Epoch 18/50\n",
            "1301/1301 [==============================] - 14s 10ms/step - loss: 0.3280 - accuracy: 0.8470 - val_loss: 0.3820 - val_accuracy: 0.8320\n",
            "Epoch 19/50\n",
            "1301/1301 [==============================] - 15s 11ms/step - loss: 0.3255 - accuracy: 0.8490 - val_loss: 0.3762 - val_accuracy: 0.8357\n",
            "Epoch 20/50\n",
            "1301/1301 [==============================] - 15s 11ms/step - loss: 0.3250 - accuracy: 0.8495 - val_loss: 0.3734 - val_accuracy: 0.8347\n",
            "Epoch 21/50\n",
            "1301/1301 [==============================] - 15s 11ms/step - loss: 0.3210 - accuracy: 0.8504 - val_loss: 0.3753 - val_accuracy: 0.8347\n",
            "Epoch 22/50\n",
            "1301/1301 [==============================] - 14s 11ms/step - loss: 0.3196 - accuracy: 0.8507 - val_loss: 0.3767 - val_accuracy: 0.8376\n",
            "Epoch 23/50\n",
            "1301/1301 [==============================] - 14s 11ms/step - loss: 0.3187 - accuracy: 0.8516 - val_loss: 0.3728 - val_accuracy: 0.8362\n",
            "Epoch 24/50\n",
            "1301/1301 [==============================] - 13s 10ms/step - loss: 0.3176 - accuracy: 0.8521 - val_loss: 0.3766 - val_accuracy: 0.8367\n",
            "Epoch 25/50\n",
            "1301/1301 [==============================] - 13s 10ms/step - loss: 0.3148 - accuracy: 0.8519 - val_loss: 0.3796 - val_accuracy: 0.8346\n",
            "Epoch 26/50\n",
            "1301/1301 [==============================] - 14s 11ms/step - loss: 0.3137 - accuracy: 0.8535 - val_loss: 0.3754 - val_accuracy: 0.8402\n",
            "Epoch 27/50\n",
            "1301/1301 [==============================] - 14s 10ms/step - loss: 0.3128 - accuracy: 0.8538 - val_loss: 0.3814 - val_accuracy: 0.8362\n",
            "Epoch 28/50\n",
            "1301/1301 [==============================] - 15s 11ms/step - loss: 0.3109 - accuracy: 0.8546 - val_loss: 0.3752 - val_accuracy: 0.8337\n",
            "Epoch 29/50\n",
            "1301/1301 [==============================] - 15s 11ms/step - loss: 0.3106 - accuracy: 0.8549 - val_loss: 0.3812 - val_accuracy: 0.8304\n",
            "Epoch 30/50\n",
            "1301/1301 [==============================] - 13s 10ms/step - loss: 0.3097 - accuracy: 0.8558 - val_loss: 0.3730 - val_accuracy: 0.8421\n",
            "Epoch 31/50\n",
            "1301/1301 [==============================] - 13s 10ms/step - loss: 0.3078 - accuracy: 0.8538 - val_loss: 0.3822 - val_accuracy: 0.8355\n",
            "Epoch 32/50\n",
            "1301/1301 [==============================] - 15s 11ms/step - loss: 0.3050 - accuracy: 0.8584 - val_loss: 0.3711 - val_accuracy: 0.8385\n",
            "Epoch 33/50\n",
            "1301/1301 [==============================] - 14s 11ms/step - loss: 0.3051 - accuracy: 0.8576 - val_loss: 0.3851 - val_accuracy: 0.8378\n",
            "Epoch 34/50\n",
            "1301/1301 [==============================] - 14s 11ms/step - loss: 0.3053 - accuracy: 0.8576 - val_loss: 0.3703 - val_accuracy: 0.8390\n",
            "Epoch 35/50\n",
            "1301/1301 [==============================] - 14s 11ms/step - loss: 0.3045 - accuracy: 0.8578 - val_loss: 0.3718 - val_accuracy: 0.8403\n",
            "Epoch 36/50\n",
            "1301/1301 [==============================] - 15s 11ms/step - loss: 0.3036 - accuracy: 0.8591 - val_loss: 0.3828 - val_accuracy: 0.8400\n",
            "Epoch 37/50\n",
            "1301/1301 [==============================] - 14s 11ms/step - loss: 0.3020 - accuracy: 0.8600 - val_loss: 0.3876 - val_accuracy: 0.8365\n",
            "Epoch 38/50\n",
            "1301/1301 [==============================] - 15s 11ms/step - loss: 0.3006 - accuracy: 0.8600 - val_loss: 0.3827 - val_accuracy: 0.8387\n",
            "Epoch 39/50\n",
            "1301/1301 [==============================] - 14s 11ms/step - loss: 0.3024 - accuracy: 0.8584 - val_loss: 0.3788 - val_accuracy: 0.8396\n",
            "Epoch 40/50\n",
            "1301/1301 [==============================] - 14s 11ms/step - loss: 0.2988 - accuracy: 0.8591 - val_loss: 0.3797 - val_accuracy: 0.8414\n",
            "Epoch 41/50\n",
            "1301/1301 [==============================] - 13s 10ms/step - loss: 0.2987 - accuracy: 0.8608 - val_loss: 0.3742 - val_accuracy: 0.8415\n",
            "Epoch 42/50\n",
            "1301/1301 [==============================] - 14s 11ms/step - loss: 0.2990 - accuracy: 0.8602 - val_loss: 0.3752 - val_accuracy: 0.8440\n",
            "Epoch 43/50\n",
            "1301/1301 [==============================] - 15s 11ms/step - loss: 0.2980 - accuracy: 0.8595 - val_loss: 0.3843 - val_accuracy: 0.8412\n",
            "Epoch 44/50\n",
            "1301/1301 [==============================] - 14s 11ms/step - loss: 0.2978 - accuracy: 0.8606 - val_loss: 0.3801 - val_accuracy: 0.8398\n",
            "Epoch 45/50\n",
            "1301/1301 [==============================] - 13s 10ms/step - loss: 0.2973 - accuracy: 0.8622 - val_loss: 0.3787 - val_accuracy: 0.8392\n",
            "Epoch 46/50\n",
            "1301/1301 [==============================] - 14s 10ms/step - loss: 0.2961 - accuracy: 0.8615 - val_loss: 0.3827 - val_accuracy: 0.8391\n",
            "Epoch 47/50\n",
            "1301/1301 [==============================] - 13s 10ms/step - loss: 0.2959 - accuracy: 0.8623 - val_loss: 0.3814 - val_accuracy: 0.8403\n",
            "Epoch 48/50\n",
            "1301/1301 [==============================] - 15s 11ms/step - loss: 0.2936 - accuracy: 0.8620 - val_loss: 0.3865 - val_accuracy: 0.8402\n",
            "Epoch 49/50\n",
            "1301/1301 [==============================] - 14s 11ms/step - loss: 0.2943 - accuracy: 0.8617 - val_loss: 0.3850 - val_accuracy: 0.8372\n",
            "Epoch 50/50\n",
            "1301/1301 [==============================] - 13s 10ms/step - loss: 0.2934 - accuracy: 0.8632 - val_loss: 0.3966 - val_accuracy: 0.8366\n"
          ]
        }
      ]
    },
    {
      "cell_type": "markdown",
      "source": [
        "## Plotting the Accuracy and Loss Curves"
      ],
      "metadata": {
        "id": "kaW3V_oMIlv_"
      }
    },
    {
      "cell_type": "code",
      "source": [
        "plt.plot(np.arange(0,50),history.history['accuracy'])\n",
        "plt.plot(np.arange(0,50),history.history['val_accuracy'])\n",
        "plt.xlabel('Epochs')\n",
        "plt.ylabel('Accuracy')\n",
        "plt.legend(['Training Accuracy','Validation Accuracy'])\n",
        "plt.show()"
      ],
      "metadata": {
        "colab": {
          "base_uri": "https://localhost:8080/",
          "height": 279
        },
        "id": "jAezlTHre6_x",
        "outputId": "a6c495de-a4eb-4c52-9b9b-8f627f6a8b15"
      },
      "execution_count": 13,
      "outputs": [
        {
          "output_type": "display_data",
          "data": {
            "image/png": "[encoded data removed]",
            "text/plain": [
              "<Figure size 432x288 with 1 Axes>"
            ]
          },
          "metadata": {
            "needs_background": "light"
          }
        }
      ]
    },
    {
      "cell_type": "code",
      "source": [
        "plt.plot(np.arange(0,50),history.history['loss'])\n",
        "plt.plot(np.arange(0,50),history.history['val_loss'])\n",
        "plt.xlabel('Epochs')\n",
        "plt.ylabel('Loss')\n",
        "plt.legend(['Training Loss','Validation Loss'])\n",
        "plt.show()"
      ],
      "metadata": {
        "colab": {
          "base_uri": "https://localhost:8080/",
          "height": 279
        },
        "id": "ihUXUBjcJei-",
        "outputId": "8a96df47-cb83-41d0-bb28-267afdf9352c"
      },
      "execution_count": 16,
      "outputs": [
        {
          "output_type": "display_data",
          "data": {
            "image/png": "[encoded data removed]",
            "text/plain": [
              "<Figure size 432x288 with 1 Axes>"
            ]
          },
          "metadata": {
            "needs_background": "light"
          }
        }
      ]
    },
    {
      "cell_type": "markdown",
      "source": [
        "## Saving the Models"
      ],
      "metadata": {
        "id": "5orx6XkyN0ZP"
      }
    },
    {
      "cell_type": "code",
      "source": [
        "model.save('cnn.h5')"
      ],
      "metadata": {
        "id": "oGOsc97KmhPN"
      },
      "execution_count": 14,
      "outputs": []
    },
    {
      "cell_type": "code",
      "source": [
        "pickle.dump(tokenizer,open('tokenizer','wb'))"
      ],
      "metadata": {
        "id": "f0KUy8gfwIu0"
      },
      "execution_count": 15,
      "outputs": []
    },
    {
      "cell_type": "markdown",
      "source": [
        "## The End"
      ],
      "metadata": {
        "id": "5RQ-_EzWwS2M"
      }
    },
    {
      "cell_type": "code",
      "source": [
        ""
      ],
      "metadata": {
        "id": "gVhCF1cJN4SZ"
      },
      "execution_count": null,
      "outputs": []
    }
  ]
}