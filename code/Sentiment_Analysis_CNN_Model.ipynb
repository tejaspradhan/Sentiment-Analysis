{
  "nbformat": 4,
  "nbformat_minor": 0,
  "metadata": {
    "colab": {
      "name": "Sentiment_Analysis_CNN_Model.ipynb",
      "provenance": [],
      "authorship_tag": "ABX9TyNRTyrOPEsFNywVaZTkxceE",
      "include_colab_link": true
    },
    "kernelspec": {
      "name": "python3",
      "display_name": "Python 3"
    },
    "language_info": {
      "name": "python"
    }
  },
  "cells": [
    {
      "cell_type": "markdown",
      "metadata": {
        "id": "view-in-github",
        "colab_type": "text"
      },
      "source": [
        "<a href=\"https://colab.research.google.com/github/tejaspradhan/Sentiment-Analysis/blob/main/code/Sentiment_Analysis_CNN_Model.ipynb\" target=\"_parent\"><img src=\"https://colab.research.google.com/assets/colab-badge.svg\" alt=\"Open In Colab\"/></a>"
      ]
    },
    {
      "cell_type": "markdown",
      "source": [
        "# Applying a 1-D Convolutional Neural Network on Twitter Data"
      ],
      "metadata": {
        "id": "8wNCR8VzAYZn"
      }
    },
    {
      "cell_type": "markdown",
      "source": [
        "## Importing the Necessary Libraries"
      ],
      "metadata": {
        "id": "A0uWUGd-Ad3e"
      }
    },
    {
      "cell_type": "code",
      "execution_count": 77,
      "metadata": {
        "id": "LS4ZkCHvk3uO"
      },
      "outputs": [],
      "source": [
        "import numpy as np \n",
        "import pandas as pd \n",
        "import matplotlib.pyplot as plt\n",
        "\n",
        "from tensorflow.keras.preprocessing import sequence,text\n",
        "from tensorflow.keras.models import Sequential\n",
        "from tensorflow.keras.layers import Conv1D, Dense, Flatten, Embedding, MaxPool1D,Dropout\n",
        "\n",
        "from sklearn.model_selection import train_test_split\n",
        "from imblearn.over_sampling import SMOTE\n",
        "\n",
        "import pickle"
      ]
    },
    {
      "cell_type": "code",
      "source": [
        "data = pd.read_csv('/content/train_preprocessed.csv')"
      ],
      "metadata": {
        "id": "RMVWEFmFxzPZ"
      },
      "execution_count": 26,
      "outputs": []
    },
    {
      "cell_type": "code",
      "source": [
        "data.head()"
      ],
      "metadata": {
        "colab": {
          "base_uri": "https://localhost:8080/",
          "height": 206
        },
        "id": "LmcIox3_51KA",
        "outputId": "3a8e1834-898b-414c-cbe7-a67c19974dde"
      },
      "execution_count": 27,
      "outputs": [
        {
          "output_type": "execute_result",
          "data": {
            "text/html": [
              "<div>\n",
              "<style scoped>\n",
              "    .dataframe tbody tr th:only-of-type {\n",
              "        vertical-align: middle;\n",
              "    }\n",
              "\n",
              "    .dataframe tbody tr th {\n",
              "        vertical-align: top;\n",
              "    }\n",
              "\n",
              "    .dataframe thead th {\n",
              "        text-align: right;\n",
              "    }\n",
              "</style>\n",
              "<table border=\"1\" class=\"dataframe\">\n",
              "  <thead>\n",
              "    <tr style=\"text-align: right;\">\n",
              "      <th></th>\n",
              "      <th>Unnamed: 0</th>\n",
              "      <th>label</th>\n",
              "      <th>cleaned_tweet</th>\n",
              "    </tr>\n",
              "  </thead>\n",
              "  <tbody>\n",
              "    <tr>\n",
              "      <th>0</th>\n",
              "      <td>0</td>\n",
              "      <td>0</td>\n",
              "      <td>user when a father is dysfunctional and is so...</td>\n",
              "    </tr>\n",
              "    <tr>\n",
              "      <th>1</th>\n",
              "      <td>1</td>\n",
              "      <td>0</td>\n",
              "      <td>user user thanks for lyft credit i cant use c...</td>\n",
              "    </tr>\n",
              "    <tr>\n",
              "      <th>2</th>\n",
              "      <td>2</td>\n",
              "      <td>0</td>\n",
              "      <td>bihday your majesty</td>\n",
              "    </tr>\n",
              "    <tr>\n",
              "      <th>3</th>\n",
              "      <td>3</td>\n",
              "      <td>0</td>\n",
              "      <td>model i love u take with u all the time in ur</td>\n",
              "    </tr>\n",
              "    <tr>\n",
              "      <th>4</th>\n",
              "      <td>4</td>\n",
              "      <td>0</td>\n",
              "      <td>factsguide society now motivation</td>\n",
              "    </tr>\n",
              "  </tbody>\n",
              "</table>\n",
              "</div>"
            ],
            "text/plain": [
              "   Unnamed: 0  label                                      cleaned_tweet\n",
              "0           0      0   user when a father is dysfunctional and is so...\n",
              "1           1      0   user user thanks for lyft credit i cant use c...\n",
              "2           2      0                                bihday your majesty\n",
              "3           3      0      model i love u take with u all the time in ur\n",
              "4           4      0                  factsguide society now motivation"
            ]
          },
          "metadata": {},
          "execution_count": 27
        }
      ]
    },
    {
      "cell_type": "code",
      "source": [
        "x,y = data['cleaned_tweet'],data['label']\n",
        "x.shape,y.shape"
      ],
      "metadata": {
        "colab": {
          "base_uri": "https://localhost:8080/"
        },
        "id": "tIMupGYf52C-",
        "outputId": "f930c511-8d9b-4862-ab96-adca69e3cfc1"
      },
      "execution_count": 28,
      "outputs": [
        {
          "output_type": "execute_result",
          "data": {
            "text/plain": [
              "((31962,), (31962,))"
            ]
          },
          "metadata": {},
          "execution_count": 28
        }
      ]
    },
    {
      "cell_type": "code",
      "source": [
        "tokenizer = text.Tokenizer(num_words=50)\n",
        "tokenizer.fit_on_texts(x)\n",
        "x_mat = tokenizer.texts_to_matrix(x)\n",
        "x_vec = sequence.pad_sequences(x_mat,maxlen=50)"
      ],
      "metadata": {
        "id": "ESJRh4FH8Ie_"
      },
      "execution_count": 29,
      "outputs": []
    },
    {
      "cell_type": "code",
      "source": [
        "resampler = SMOTE()\n",
        "x_vec,y = resampler.fit_resample(x_vec,y)"
      ],
      "metadata": {
        "id": "JiBeP-c0_Gqi"
      },
      "execution_count": 46,
      "outputs": []
    },
    {
      "cell_type": "code",
      "source": [
        "x_train,x_test,y_train,y_test = train_test_split(x_vec,y,test_size=0.3)"
      ],
      "metadata": {
        "id": "ZA-oZ1VZ_M2z"
      },
      "execution_count": 47,
      "outputs": []
    },
    {
      "cell_type": "code",
      "source": [
        "x_train.shape,x_test.shape,y_train.shape,y_test.shape"
      ],
      "metadata": {
        "colab": {
          "base_uri": "https://localhost:8080/"
        },
        "id": "I5yc6eh8_qxU",
        "outputId": "548f143b-1261-4e8b-b3cc-656304543d09"
      },
      "execution_count": 48,
      "outputs": [
        {
          "output_type": "execute_result",
          "data": {
            "text/plain": [
              "((41608, 50), (17832, 50), (41608,), (17832,))"
            ]
          },
          "metadata": {},
          "execution_count": 48
        }
      ]
    },
    {
      "cell_type": "code",
      "source": [
        "model = Sequential()\n",
        "model.add(Embedding(50,10,input_length=50))\n",
        "model.add(Conv1D(64, kernel_size=3))\n",
        "model.add(MaxPool1D())\n",
        "model.add(Dropout(0.3))\n",
        "model.add(Conv1D(64, kernel_size=3))\n",
        "model.add(MaxPool1D())\n",
        "model.add(Flatten())\n",
        "model.add(Dense(32,activation='relu'))\n",
        "model.add(Dense(32,activation='relu'))\n",
        "model.add(Dense(1,activation='sigmoid'))"
      ],
      "metadata": {
        "id": "y0_1lDT2ASxR"
      },
      "execution_count": 71,
      "outputs": []
    },
    {
      "cell_type": "code",
      "source": [
        "model.summary()"
      ],
      "metadata": {
        "colab": {
          "base_uri": "https://localhost:8080/"
        },
        "id": "8H36kiVgesVb",
        "outputId": "a6524443-c888-4ba4-89ee-3b4e5644343b"
      },
      "execution_count": 72,
      "outputs": [
        {
          "output_type": "stream",
          "name": "stdout",
          "text": [
            "Model: \"sequential_9\"\n",
            "_________________________________________________________________\n",
            " Layer (type)                Output Shape              Param #   \n",
            "=================================================================\n",
            " embedding_7 (Embedding)     (None, 50, 10)            500       \n",
            "                                                                 \n",
            " conv1d_8 (Conv1D)           (None, 48, 64)            1984      \n",
            "                                                                 \n",
            " max_pooling1d_8 (MaxPooling  (None, 24, 64)           0         \n",
            " 1D)                                                             \n",
            "                                                                 \n",
            " dropout (Dropout)           (None, 24, 64)            0         \n",
            "                                                                 \n",
            " conv1d_9 (Conv1D)           (None, 22, 64)            12352     \n",
            "                                                                 \n",
            " max_pooling1d_9 (MaxPooling  (None, 11, 64)           0         \n",
            " 1D)                                                             \n",
            "                                                                 \n",
            " flatten_6 (Flatten)         (None, 704)               0         \n",
            "                                                                 \n",
            " dense_13 (Dense)            (None, 32)                22560     \n",
            "                                                                 \n",
            " dense_14 (Dense)            (None, 32)                1056      \n",
            "                                                                 \n",
            " dense_15 (Dense)            (None, 1)                 33        \n",
            "                                                                 \n",
            "=================================================================\n",
            "Total params: 38,485\n",
            "Trainable params: 38,485\n",
            "Non-trainable params: 0\n",
            "_________________________________________________________________\n"
          ]
        }
      ]
    },
    {
      "cell_type": "code",
      "source": [
        "model.compile(loss='binary_crossentropy',optimizer='adam',metrics=['accuracy'])"
      ],
      "metadata": {
        "id": "OA-NJhmpdrcl"
      },
      "execution_count": 73,
      "outputs": []
    },
    {
      "cell_type": "code",
      "source": [
        "history = model.fit(x_train,y_train,epochs = 50, validation_data=(x_test,y_test))"
      ],
      "metadata": {
        "colab": {
          "base_uri": "https://localhost:8080/"
        },
        "id": "OTLX1Q6ye0Hh",
        "outputId": "120f8a3e-0e8b-4de2-9c01-2bdbb3f05386"
      },
      "execution_count": 74,
      "outputs": [
        {
          "output_type": "stream",
          "name": "stdout",
          "text": [
            "Epoch 1/50\n",
            "1301/1301 [==============================] - 15s 11ms/step - loss: 0.4804 - accuracy: 0.7606 - val_loss: 0.4419 - val_accuracy: 0.7857\n",
            "Epoch 2/50\n",
            "1301/1301 [==============================] - 14s 11ms/step - loss: 0.4318 - accuracy: 0.7940 - val_loss: 0.4369 - val_accuracy: 0.7956\n",
            "Epoch 3/50\n",
            "1301/1301 [==============================] - 14s 10ms/step - loss: 0.4114 - accuracy: 0.8042 - val_loss: 0.4158 - val_accuracy: 0.8020\n",
            "Epoch 4/50\n",
            "1301/1301 [==============================] - 13s 10ms/step - loss: 0.3966 - accuracy: 0.8134 - val_loss: 0.4019 - val_accuracy: 0.8113\n",
            "Epoch 5/50\n",
            "1301/1301 [==============================] - 14s 11ms/step - loss: 0.3845 - accuracy: 0.8192 - val_loss: 0.3948 - val_accuracy: 0.8200\n",
            "Epoch 6/50\n",
            "1301/1301 [==============================] - 14s 11ms/step - loss: 0.3750 - accuracy: 0.8230 - val_loss: 0.3829 - val_accuracy: 0.8241\n",
            "Epoch 7/50\n",
            "1301/1301 [==============================] - 14s 11ms/step - loss: 0.3678 - accuracy: 0.8280 - val_loss: 0.4002 - val_accuracy: 0.8129\n",
            "Epoch 8/50\n",
            "1301/1301 [==============================] - 13s 10ms/step - loss: 0.3608 - accuracy: 0.8328 - val_loss: 0.3773 - val_accuracy: 0.8290\n",
            "Epoch 9/50\n",
            "1301/1301 [==============================] - 13s 10ms/step - loss: 0.3556 - accuracy: 0.8348 - val_loss: 0.3800 - val_accuracy: 0.8286\n",
            "Epoch 10/50\n",
            "1301/1301 [==============================] - 14s 11ms/step - loss: 0.3501 - accuracy: 0.8375 - val_loss: 0.3841 - val_accuracy: 0.8284\n",
            "Epoch 11/50\n",
            "1301/1301 [==============================] - 14s 11ms/step - loss: 0.3470 - accuracy: 0.8403 - val_loss: 0.3870 - val_accuracy: 0.8237\n",
            "Epoch 12/50\n",
            "1301/1301 [==============================] - 14s 11ms/step - loss: 0.3435 - accuracy: 0.8393 - val_loss: 0.3784 - val_accuracy: 0.8346\n",
            "Epoch 13/50\n",
            "1301/1301 [==============================] - 13s 10ms/step - loss: 0.3378 - accuracy: 0.8437 - val_loss: 0.3772 - val_accuracy: 0.8345\n",
            "Epoch 14/50\n",
            "1301/1301 [==============================] - 14s 11ms/step - loss: 0.3342 - accuracy: 0.8462 - val_loss: 0.3863 - val_accuracy: 0.8297\n",
            "Epoch 15/50\n",
            "1301/1301 [==============================] - 13s 10ms/step - loss: 0.3338 - accuracy: 0.8460 - val_loss: 0.3691 - val_accuracy: 0.8352\n",
            "Epoch 16/50\n",
            "1301/1301 [==============================] - 13s 10ms/step - loss: 0.3321 - accuracy: 0.8451 - val_loss: 0.3783 - val_accuracy: 0.8341\n",
            "Epoch 17/50\n",
            "1301/1301 [==============================] - 13s 10ms/step - loss: 0.3265 - accuracy: 0.8481 - val_loss: 0.3787 - val_accuracy: 0.8365\n",
            "Epoch 18/50\n",
            "1301/1301 [==============================] - 14s 11ms/step - loss: 0.3265 - accuracy: 0.8472 - val_loss: 0.3735 - val_accuracy: 0.8369\n",
            "Epoch 19/50\n",
            "1301/1301 [==============================] - 14s 11ms/step - loss: 0.3236 - accuracy: 0.8495 - val_loss: 0.3745 - val_accuracy: 0.8413\n",
            "Epoch 20/50\n",
            "1301/1301 [==============================] - 13s 10ms/step - loss: 0.3208 - accuracy: 0.8505 - val_loss: 0.3828 - val_accuracy: 0.8368\n",
            "Epoch 21/50\n",
            "1301/1301 [==============================] - 13s 10ms/step - loss: 0.3188 - accuracy: 0.8518 - val_loss: 0.3763 - val_accuracy: 0.8378\n",
            "Epoch 22/50\n",
            "1301/1301 [==============================] - 15s 11ms/step - loss: 0.3187 - accuracy: 0.8516 - val_loss: 0.3713 - val_accuracy: 0.8391\n",
            "Epoch 23/50\n",
            "1301/1301 [==============================] - 14s 11ms/step - loss: 0.3174 - accuracy: 0.8507 - val_loss: 0.3770 - val_accuracy: 0.8387\n",
            "Epoch 24/50\n",
            "1301/1301 [==============================] - 13s 10ms/step - loss: 0.3133 - accuracy: 0.8530 - val_loss: 0.3807 - val_accuracy: 0.8338\n",
            "Epoch 25/50\n",
            "1301/1301 [==============================] - 13s 10ms/step - loss: 0.3134 - accuracy: 0.8538 - val_loss: 0.3816 - val_accuracy: 0.8359\n",
            "Epoch 26/50\n",
            "1301/1301 [==============================] - 13s 10ms/step - loss: 0.3133 - accuracy: 0.8537 - val_loss: 0.3823 - val_accuracy: 0.8416\n",
            "Epoch 27/50\n",
            "1301/1301 [==============================] - 13s 10ms/step - loss: 0.3110 - accuracy: 0.8541 - val_loss: 0.3781 - val_accuracy: 0.8369\n",
            "Epoch 28/50\n",
            "1301/1301 [==============================] - 14s 11ms/step - loss: 0.3114 - accuracy: 0.8543 - val_loss: 0.3740 - val_accuracy: 0.8420\n",
            "Epoch 29/50\n",
            "1301/1301 [==============================] - 14s 11ms/step - loss: 0.3075 - accuracy: 0.8566 - val_loss: 0.3747 - val_accuracy: 0.8428\n",
            "Epoch 30/50\n",
            "1301/1301 [==============================] - 14s 11ms/step - loss: 0.3078 - accuracy: 0.8556 - val_loss: 0.3785 - val_accuracy: 0.8377\n",
            "Epoch 31/50\n",
            "1301/1301 [==============================] - 13s 10ms/step - loss: 0.3068 - accuracy: 0.8564 - val_loss: 0.3720 - val_accuracy: 0.8426\n",
            "Epoch 32/50\n",
            "1301/1301 [==============================] - 14s 11ms/step - loss: 0.3050 - accuracy: 0.8582 - val_loss: 0.3794 - val_accuracy: 0.8373\n",
            "Epoch 33/50\n",
            "1301/1301 [==============================] - 13s 10ms/step - loss: 0.3057 - accuracy: 0.8586 - val_loss: 0.3773 - val_accuracy: 0.8400\n",
            "Epoch 34/50\n",
            "1301/1301 [==============================] - 13s 10ms/step - loss: 0.3041 - accuracy: 0.8578 - val_loss: 0.3800 - val_accuracy: 0.8406\n",
            "Epoch 35/50\n",
            "1301/1301 [==============================] - 14s 11ms/step - loss: 0.3034 - accuracy: 0.8588 - val_loss: 0.3785 - val_accuracy: 0.8377\n",
            "Epoch 36/50\n",
            "1301/1301 [==============================] - 13s 10ms/step - loss: 0.3024 - accuracy: 0.8580 - val_loss: 0.3843 - val_accuracy: 0.8392\n",
            "Epoch 37/50\n",
            "1301/1301 [==============================] - 14s 11ms/step - loss: 0.3001 - accuracy: 0.8594 - val_loss: 0.3917 - val_accuracy: 0.8378\n",
            "Epoch 38/50\n",
            "1301/1301 [==============================] - 13s 10ms/step - loss: 0.3006 - accuracy: 0.8599 - val_loss: 0.3821 - val_accuracy: 0.8423\n",
            "Epoch 39/50\n",
            "1301/1301 [==============================] - 14s 11ms/step - loss: 0.3001 - accuracy: 0.8601 - val_loss: 0.3866 - val_accuracy: 0.8389\n",
            "Epoch 40/50\n",
            "1301/1301 [==============================] - 13s 10ms/step - loss: 0.2990 - accuracy: 0.8596 - val_loss: 0.3778 - val_accuracy: 0.8446\n",
            "Epoch 41/50\n",
            "1301/1301 [==============================] - 14s 11ms/step - loss: 0.2969 - accuracy: 0.8605 - val_loss: 0.3898 - val_accuracy: 0.8382\n",
            "Epoch 42/50\n",
            "1301/1301 [==============================] - 13s 10ms/step - loss: 0.2992 - accuracy: 0.8598 - val_loss: 0.3808 - val_accuracy: 0.8434\n",
            "Epoch 43/50\n",
            "1301/1301 [==============================] - 13s 10ms/step - loss: 0.2957 - accuracy: 0.8609 - val_loss: 0.3869 - val_accuracy: 0.8401\n",
            "Epoch 44/50\n",
            "1301/1301 [==============================] - 14s 11ms/step - loss: 0.2969 - accuracy: 0.8623 - val_loss: 0.3851 - val_accuracy: 0.8398\n",
            "Epoch 45/50\n",
            "1301/1301 [==============================] - 13s 10ms/step - loss: 0.2965 - accuracy: 0.8609 - val_loss: 0.3896 - val_accuracy: 0.8379\n",
            "Epoch 46/50\n",
            "1301/1301 [==============================] - 13s 10ms/step - loss: 0.2958 - accuracy: 0.8627 - val_loss: 0.3814 - val_accuracy: 0.8469\n",
            "Epoch 47/50\n",
            "1301/1301 [==============================] - 14s 11ms/step - loss: 0.2943 - accuracy: 0.8631 - val_loss: 0.3927 - val_accuracy: 0.8418\n",
            "Epoch 48/50\n",
            "1301/1301 [==============================] - 13s 10ms/step - loss: 0.2937 - accuracy: 0.8620 - val_loss: 0.3839 - val_accuracy: 0.8456\n",
            "Epoch 49/50\n",
            "1301/1301 [==============================] - 14s 11ms/step - loss: 0.2931 - accuracy: 0.8632 - val_loss: 0.3877 - val_accuracy: 0.8429\n",
            "Epoch 50/50\n",
            "1301/1301 [==============================] - 13s 10ms/step - loss: 0.2930 - accuracy: 0.8628 - val_loss: 0.3982 - val_accuracy: 0.8431\n"
          ]
        }
      ]
    },
    {
      "cell_type": "code",
      "source": [
        "plt.plot(np.arange(0,50),history.history['accuracy'])\n",
        "plt.plot(np.arange(0,50),history.history['val_accuracy'])\n",
        "plt.show()"
      ],
      "metadata": {
        "colab": {
          "base_uri": "https://localhost:8080/",
          "height": 265
        },
        "id": "jAezlTHre6_x",
        "outputId": "de730c39-69d0-49ea-94aa-3281569093ea"
      },
      "execution_count": 75,
      "outputs": [
        {
          "output_type": "display_data",
          "data": {
            "image/png": "[encoded data removed]",
            "text/plain": [
              "<Figure size 432x288 with 1 Axes>"
            ]
          },
          "metadata": {
            "needs_background": "light"
          }
        }
      ]
    },
    {
      "cell_type": "code",
      "source": [
        "model.save('cnn.h5')"
      ],
      "metadata": {
        "id": "oGOsc97KmhPN"
      },
      "execution_count": 76,
      "outputs": []
    },
    {
      "cell_type": "code",
      "source": [
        "pickle.dump(tokenizer,open('tokenizer','wb'))"
      ],
      "metadata": {
        "id": "f0KUy8gfwIu0"
      },
      "execution_count": 78,
      "outputs": []
    },
    {
      "cell_type": "code",
      "source": [
        ""
      ],
      "metadata": {
        "id": "5RQ-_EzWwS2M"
      },
      "execution_count": null,
      "outputs": []
    }
  ]
}